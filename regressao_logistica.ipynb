{
 "cells": [
  {
   "cell_type": "code",
   "execution_count": 48,
   "id": "99c10a73",
   "metadata": {},
   "outputs": [],
   "source": [
    "import pandas as pd\n",
    "import seaborn as sns\n",
    "import matplotlib.pyplot as plt\n",
    "from sklearn.linear_model import LogisticRegression\n",
    "from sklearn.model_selection import cross_val_score, cross_val_predict\n",
    "from sklearn.dummy import DummyClassifier\n",
    "from sklearn.metrics import confusion_matrix\n",
    "from sklearn.metrics import precision_recall_curve\n",
    "from sklearn.metrics import roc_curve\n",
    "from sklearn.feature_selection import RFE"
   ]
  },
  {
   "cell_type": "code",
   "execution_count": 2,
   "id": "215286fb",
   "metadata": {},
   "outputs": [],
   "source": [
    "dataset = pd.read_csv('credit_dataset_final.csv')"
   ]
  },
  {
   "cell_type": "code",
   "execution_count": 3,
   "id": "c59073da",
   "metadata": {
    "scrolled": true
   },
   "outputs": [
    {
     "data": {
      "text/html": [
       "<div>\n",
       "<style scoped>\n",
       "    .dataframe tbody tr th:only-of-type {\n",
       "        vertical-align: middle;\n",
       "    }\n",
       "\n",
       "    .dataframe tbody tr th {\n",
       "        vertical-align: top;\n",
       "    }\n",
       "\n",
       "    .dataframe thead th {\n",
       "        text-align: right;\n",
       "    }\n",
       "</style>\n",
       "<table border=\"1\" class=\"dataframe\">\n",
       "  <thead>\n",
       "    <tr style=\"text-align: right;\">\n",
       "      <th></th>\n",
       "      <th>credit.rating</th>\n",
       "      <th>account.balance</th>\n",
       "      <th>credit.duration.months</th>\n",
       "      <th>previous.credit.payment.status</th>\n",
       "      <th>credit.purpose</th>\n",
       "      <th>credit.amount</th>\n",
       "      <th>savings</th>\n",
       "      <th>employment.duration</th>\n",
       "      <th>installment.rate</th>\n",
       "      <th>marital.status</th>\n",
       "      <th>...</th>\n",
       "      <th>residence.duration</th>\n",
       "      <th>current.assets</th>\n",
       "      <th>age</th>\n",
       "      <th>other.credits</th>\n",
       "      <th>apartment.type</th>\n",
       "      <th>bank.credits</th>\n",
       "      <th>occupation</th>\n",
       "      <th>dependents</th>\n",
       "      <th>telephone</th>\n",
       "      <th>foreign.worker</th>\n",
       "    </tr>\n",
       "  </thead>\n",
       "  <tbody>\n",
       "    <tr>\n",
       "      <th>0</th>\n",
       "      <td>1</td>\n",
       "      <td>1</td>\n",
       "      <td>18</td>\n",
       "      <td>3</td>\n",
       "      <td>2</td>\n",
       "      <td>1049</td>\n",
       "      <td>1</td>\n",
       "      <td>1</td>\n",
       "      <td>4</td>\n",
       "      <td>1</td>\n",
       "      <td>...</td>\n",
       "      <td>4</td>\n",
       "      <td>2</td>\n",
       "      <td>21</td>\n",
       "      <td>2</td>\n",
       "      <td>1</td>\n",
       "      <td>1</td>\n",
       "      <td>3</td>\n",
       "      <td>1</td>\n",
       "      <td>1</td>\n",
       "      <td>1</td>\n",
       "    </tr>\n",
       "    <tr>\n",
       "      <th>1</th>\n",
       "      <td>1</td>\n",
       "      <td>1</td>\n",
       "      <td>9</td>\n",
       "      <td>3</td>\n",
       "      <td>4</td>\n",
       "      <td>2799</td>\n",
       "      <td>1</td>\n",
       "      <td>2</td>\n",
       "      <td>2</td>\n",
       "      <td>3</td>\n",
       "      <td>...</td>\n",
       "      <td>2</td>\n",
       "      <td>1</td>\n",
       "      <td>36</td>\n",
       "      <td>2</td>\n",
       "      <td>1</td>\n",
       "      <td>2</td>\n",
       "      <td>3</td>\n",
       "      <td>2</td>\n",
       "      <td>1</td>\n",
       "      <td>1</td>\n",
       "    </tr>\n",
       "    <tr>\n",
       "      <th>2</th>\n",
       "      <td>1</td>\n",
       "      <td>2</td>\n",
       "      <td>12</td>\n",
       "      <td>2</td>\n",
       "      <td>4</td>\n",
       "      <td>841</td>\n",
       "      <td>2</td>\n",
       "      <td>3</td>\n",
       "      <td>2</td>\n",
       "      <td>1</td>\n",
       "      <td>...</td>\n",
       "      <td>4</td>\n",
       "      <td>1</td>\n",
       "      <td>23</td>\n",
       "      <td>2</td>\n",
       "      <td>1</td>\n",
       "      <td>1</td>\n",
       "      <td>2</td>\n",
       "      <td>1</td>\n",
       "      <td>1</td>\n",
       "      <td>1</td>\n",
       "    </tr>\n",
       "    <tr>\n",
       "      <th>3</th>\n",
       "      <td>1</td>\n",
       "      <td>1</td>\n",
       "      <td>12</td>\n",
       "      <td>3</td>\n",
       "      <td>4</td>\n",
       "      <td>2122</td>\n",
       "      <td>1</td>\n",
       "      <td>2</td>\n",
       "      <td>3</td>\n",
       "      <td>3</td>\n",
       "      <td>...</td>\n",
       "      <td>2</td>\n",
       "      <td>1</td>\n",
       "      <td>39</td>\n",
       "      <td>2</td>\n",
       "      <td>1</td>\n",
       "      <td>2</td>\n",
       "      <td>2</td>\n",
       "      <td>2</td>\n",
       "      <td>1</td>\n",
       "      <td>2</td>\n",
       "    </tr>\n",
       "    <tr>\n",
       "      <th>4</th>\n",
       "      <td>1</td>\n",
       "      <td>1</td>\n",
       "      <td>12</td>\n",
       "      <td>3</td>\n",
       "      <td>4</td>\n",
       "      <td>2171</td>\n",
       "      <td>1</td>\n",
       "      <td>2</td>\n",
       "      <td>4</td>\n",
       "      <td>3</td>\n",
       "      <td>...</td>\n",
       "      <td>4</td>\n",
       "      <td>2</td>\n",
       "      <td>38</td>\n",
       "      <td>1</td>\n",
       "      <td>2</td>\n",
       "      <td>2</td>\n",
       "      <td>2</td>\n",
       "      <td>1</td>\n",
       "      <td>1</td>\n",
       "      <td>2</td>\n",
       "    </tr>\n",
       "  </tbody>\n",
       "</table>\n",
       "<p>5 rows × 21 columns</p>\n",
       "</div>"
      ],
      "text/plain": [
       "   credit.rating  account.balance  credit.duration.months  \\\n",
       "0              1                1                      18   \n",
       "1              1                1                       9   \n",
       "2              1                2                      12   \n",
       "3              1                1                      12   \n",
       "4              1                1                      12   \n",
       "\n",
       "   previous.credit.payment.status  credit.purpose  credit.amount  savings  \\\n",
       "0                               3               2           1049        1   \n",
       "1                               3               4           2799        1   \n",
       "2                               2               4            841        2   \n",
       "3                               3               4           2122        1   \n",
       "4                               3               4           2171        1   \n",
       "\n",
       "   employment.duration  installment.rate  marital.status  ...  \\\n",
       "0                    1                 4               1  ...   \n",
       "1                    2                 2               3  ...   \n",
       "2                    3                 2               1  ...   \n",
       "3                    2                 3               3  ...   \n",
       "4                    2                 4               3  ...   \n",
       "\n",
       "   residence.duration  current.assets  age  other.credits  apartment.type  \\\n",
       "0                   4               2   21              2               1   \n",
       "1                   2               1   36              2               1   \n",
       "2                   4               1   23              2               1   \n",
       "3                   2               1   39              2               1   \n",
       "4                   4               2   38              1               2   \n",
       "\n",
       "   bank.credits  occupation  dependents  telephone  foreign.worker  \n",
       "0             1           3           1          1               1  \n",
       "1             2           3           2          1               1  \n",
       "2             1           2           1          1               1  \n",
       "3             2           2           2          1               2  \n",
       "4             2           2           1          1               2  \n",
       "\n",
       "[5 rows x 21 columns]"
      ]
     },
     "execution_count": 3,
     "metadata": {},
     "output_type": "execute_result"
    }
   ],
   "source": [
    "dataset.head()"
   ]
  },
  {
   "cell_type": "code",
   "execution_count": 4,
   "id": "a6bc4374",
   "metadata": {},
   "outputs": [],
   "source": [
    "numeric_vars = ['credit.duration.months', 'age', 'credit.amount']\n",
    "categorical_vars = [val for val in dataset.columns.values if val not in numeric_vars]"
   ]
  },
  {
   "cell_type": "code",
   "execution_count": 5,
   "id": "45aad376",
   "metadata": {},
   "outputs": [],
   "source": [
    "for var in categorical_vars:\n",
    "    dataset[var] = dataset[var].astype('category')"
   ]
  },
  {
   "cell_type": "code",
   "execution_count": 6,
   "id": "6a2b7bd5",
   "metadata": {},
   "outputs": [
    {
     "name": "stdout",
     "output_type": "stream",
     "text": [
      "<class 'pandas.core.frame.DataFrame'>\n",
      "RangeIndex: 1000 entries, 0 to 999\n",
      "Data columns (total 21 columns):\n",
      " #   Column                          Non-Null Count  Dtype   \n",
      "---  ------                          --------------  -----   \n",
      " 0   credit.rating                   1000 non-null   category\n",
      " 1   account.balance                 1000 non-null   category\n",
      " 2   credit.duration.months          1000 non-null   int64   \n",
      " 3   previous.credit.payment.status  1000 non-null   category\n",
      " 4   credit.purpose                  1000 non-null   category\n",
      " 5   credit.amount                   1000 non-null   int64   \n",
      " 6   savings                         1000 non-null   category\n",
      " 7   employment.duration             1000 non-null   category\n",
      " 8   installment.rate                1000 non-null   category\n",
      " 9   marital.status                  1000 non-null   category\n",
      " 10  guarantor                       1000 non-null   category\n",
      " 11  residence.duration              1000 non-null   category\n",
      " 12  current.assets                  1000 non-null   category\n",
      " 13  age                             1000 non-null   int64   \n",
      " 14  other.credits                   1000 non-null   category\n",
      " 15  apartment.type                  1000 non-null   category\n",
      " 16  bank.credits                    1000 non-null   category\n",
      " 17  occupation                      1000 non-null   category\n",
      " 18  dependents                      1000 non-null   category\n",
      " 19  telephone                       1000 non-null   category\n",
      " 20  foreign.worker                  1000 non-null   category\n",
      "dtypes: category(18), int64(3)\n",
      "memory usage: 43.9 KB\n"
     ]
    }
   ],
   "source": [
    "dataset.info()"
   ]
  },
  {
   "cell_type": "code",
   "execution_count": 7,
   "id": "86ce214b",
   "metadata": {},
   "outputs": [],
   "source": [
    "def scale(data, columns):\n",
    "    for colum in columns:\n",
    "        media = data[colum].mean()\n",
    "        std = data[colum].std()\n",
    "        data[colum] = data[colum].apply(lambda x: (x - media) / std)\n",
    "    return data"
   ]
  },
  {
   "cell_type": "code",
   "execution_count": 8,
   "id": "d829e165",
   "metadata": {},
   "outputs": [],
   "source": [
    "dataset = scale(dataset, numeric_vars)"
   ]
  },
  {
   "cell_type": "code",
   "execution_count": 9,
   "id": "b98c2223",
   "metadata": {
    "scrolled": true
   },
   "outputs": [
    {
     "data": {
      "text/html": [
       "<div>\n",
       "<style scoped>\n",
       "    .dataframe tbody tr th:only-of-type {\n",
       "        vertical-align: middle;\n",
       "    }\n",
       "\n",
       "    .dataframe tbody tr th {\n",
       "        vertical-align: top;\n",
       "    }\n",
       "\n",
       "    .dataframe thead th {\n",
       "        text-align: right;\n",
       "    }\n",
       "</style>\n",
       "<table border=\"1\" class=\"dataframe\">\n",
       "  <thead>\n",
       "    <tr style=\"text-align: right;\">\n",
       "      <th></th>\n",
       "      <th>credit.rating</th>\n",
       "      <th>account.balance</th>\n",
       "      <th>credit.duration.months</th>\n",
       "      <th>previous.credit.payment.status</th>\n",
       "      <th>credit.purpose</th>\n",
       "      <th>credit.amount</th>\n",
       "      <th>savings</th>\n",
       "      <th>employment.duration</th>\n",
       "      <th>installment.rate</th>\n",
       "      <th>marital.status</th>\n",
       "      <th>...</th>\n",
       "      <th>residence.duration</th>\n",
       "      <th>current.assets</th>\n",
       "      <th>age</th>\n",
       "      <th>other.credits</th>\n",
       "      <th>apartment.type</th>\n",
       "      <th>bank.credits</th>\n",
       "      <th>occupation</th>\n",
       "      <th>dependents</th>\n",
       "      <th>telephone</th>\n",
       "      <th>foreign.worker</th>\n",
       "    </tr>\n",
       "  </thead>\n",
       "  <tbody>\n",
       "    <tr>\n",
       "      <th>0</th>\n",
       "      <td>1</td>\n",
       "      <td>1</td>\n",
       "      <td>-0.240737</td>\n",
       "      <td>3</td>\n",
       "      <td>2</td>\n",
       "      <td>-0.787263</td>\n",
       "      <td>1</td>\n",
       "      <td>1</td>\n",
       "      <td>4</td>\n",
       "      <td>1</td>\n",
       "      <td>...</td>\n",
       "      <td>4</td>\n",
       "      <td>2</td>\n",
       "      <td>-1.280932</td>\n",
       "      <td>2</td>\n",
       "      <td>1</td>\n",
       "      <td>1</td>\n",
       "      <td>3</td>\n",
       "      <td>1</td>\n",
       "      <td>1</td>\n",
       "      <td>1</td>\n",
       "    </tr>\n",
       "    <tr>\n",
       "      <th>1</th>\n",
       "      <td>1</td>\n",
       "      <td>1</td>\n",
       "      <td>-0.987079</td>\n",
       "      <td>3</td>\n",
       "      <td>4</td>\n",
       "      <td>-0.167301</td>\n",
       "      <td>1</td>\n",
       "      <td>2</td>\n",
       "      <td>2</td>\n",
       "      <td>3</td>\n",
       "      <td>...</td>\n",
       "      <td>2</td>\n",
       "      <td>1</td>\n",
       "      <td>0.040343</td>\n",
       "      <td>2</td>\n",
       "      <td>1</td>\n",
       "      <td>2</td>\n",
       "      <td>3</td>\n",
       "      <td>2</td>\n",
       "      <td>1</td>\n",
       "      <td>1</td>\n",
       "    </tr>\n",
       "    <tr>\n",
       "      <th>2</th>\n",
       "      <td>1</td>\n",
       "      <td>2</td>\n",
       "      <td>-0.738298</td>\n",
       "      <td>2</td>\n",
       "      <td>4</td>\n",
       "      <td>-0.860950</td>\n",
       "      <td>2</td>\n",
       "      <td>3</td>\n",
       "      <td>2</td>\n",
       "      <td>1</td>\n",
       "      <td>...</td>\n",
       "      <td>4</td>\n",
       "      <td>1</td>\n",
       "      <td>-1.104762</td>\n",
       "      <td>2</td>\n",
       "      <td>1</td>\n",
       "      <td>1</td>\n",
       "      <td>2</td>\n",
       "      <td>1</td>\n",
       "      <td>1</td>\n",
       "      <td>1</td>\n",
       "    </tr>\n",
       "    <tr>\n",
       "      <th>3</th>\n",
       "      <td>1</td>\n",
       "      <td>1</td>\n",
       "      <td>-0.738298</td>\n",
       "      <td>3</td>\n",
       "      <td>4</td>\n",
       "      <td>-0.407137</td>\n",
       "      <td>1</td>\n",
       "      <td>2</td>\n",
       "      <td>3</td>\n",
       "      <td>3</td>\n",
       "      <td>...</td>\n",
       "      <td>2</td>\n",
       "      <td>1</td>\n",
       "      <td>0.304598</td>\n",
       "      <td>2</td>\n",
       "      <td>1</td>\n",
       "      <td>2</td>\n",
       "      <td>2</td>\n",
       "      <td>2</td>\n",
       "      <td>1</td>\n",
       "      <td>2</td>\n",
       "    </tr>\n",
       "    <tr>\n",
       "      <th>4</th>\n",
       "      <td>1</td>\n",
       "      <td>1</td>\n",
       "      <td>-0.738298</td>\n",
       "      <td>3</td>\n",
       "      <td>4</td>\n",
       "      <td>-0.389779</td>\n",
       "      <td>1</td>\n",
       "      <td>2</td>\n",
       "      <td>4</td>\n",
       "      <td>3</td>\n",
       "      <td>...</td>\n",
       "      <td>4</td>\n",
       "      <td>2</td>\n",
       "      <td>0.216513</td>\n",
       "      <td>1</td>\n",
       "      <td>2</td>\n",
       "      <td>2</td>\n",
       "      <td>2</td>\n",
       "      <td>1</td>\n",
       "      <td>1</td>\n",
       "      <td>2</td>\n",
       "    </tr>\n",
       "  </tbody>\n",
       "</table>\n",
       "<p>5 rows × 21 columns</p>\n",
       "</div>"
      ],
      "text/plain": [
       "  credit.rating account.balance  credit.duration.months  \\\n",
       "0             1               1               -0.240737   \n",
       "1             1               1               -0.987079   \n",
       "2             1               2               -0.738298   \n",
       "3             1               1               -0.738298   \n",
       "4             1               1               -0.738298   \n",
       "\n",
       "  previous.credit.payment.status credit.purpose  credit.amount savings  \\\n",
       "0                              3              2      -0.787263       1   \n",
       "1                              3              4      -0.167301       1   \n",
       "2                              2              4      -0.860950       2   \n",
       "3                              3              4      -0.407137       1   \n",
       "4                              3              4      -0.389779       1   \n",
       "\n",
       "  employment.duration installment.rate marital.status  ... residence.duration  \\\n",
       "0                   1                4              1  ...                  4   \n",
       "1                   2                2              3  ...                  2   \n",
       "2                   3                2              1  ...                  4   \n",
       "3                   2                3              3  ...                  2   \n",
       "4                   2                4              3  ...                  4   \n",
       "\n",
       "  current.assets       age  other.credits apartment.type bank.credits  \\\n",
       "0              2 -1.280932              2              1            1   \n",
       "1              1  0.040343              2              1            2   \n",
       "2              1 -1.104762              2              1            1   \n",
       "3              1  0.304598              2              1            2   \n",
       "4              2  0.216513              1              2            2   \n",
       "\n",
       "  occupation dependents telephone foreign.worker  \n",
       "0          3          1         1              1  \n",
       "1          3          2         1              1  \n",
       "2          2          1         1              1  \n",
       "3          2          2         1              2  \n",
       "4          2          1         1              2  \n",
       "\n",
       "[5 rows x 21 columns]"
      ]
     },
     "execution_count": 9,
     "metadata": {},
     "output_type": "execute_result"
    }
   ],
   "source": [
    "dataset.head()"
   ]
  },
  {
   "cell_type": "code",
   "execution_count": 10,
   "id": "3d7fd8b9",
   "metadata": {},
   "outputs": [],
   "source": [
    "def split(data, test=0.8):\n",
    "    t_treino = int(test * len(data))\n",
    "    t_test = int(len(data) - t_treino)\n",
    "    \n",
    "    shuffle = data.sample(frac=1)\n",
    "    train_data = shuffle[:t_treino]\n",
    "    test_data = shuffle[-t_test:]\n",
    "    \n",
    "    return train_data, test_data"
   ]
  },
  {
   "cell_type": "code",
   "execution_count": 11,
   "id": "cdb66b80",
   "metadata": {},
   "outputs": [],
   "source": [
    "x_train, x_test = split(dataset)"
   ]
  },
  {
   "cell_type": "code",
   "execution_count": 12,
   "id": "e66e35d1",
   "metadata": {},
   "outputs": [],
   "source": [
    "y_train = x_train.iloc[:, 0]\n",
    "x_train = x_train.iloc[:, 1:]"
   ]
  },
  {
   "cell_type": "code",
   "execution_count": 13,
   "id": "11a04354",
   "metadata": {},
   "outputs": [],
   "source": [
    "y_test = x_test.iloc[:, 0]\n",
    "x_test = x_test.iloc[:, 1:]"
   ]
  },
  {
   "cell_type": "code",
   "execution_count": 14,
   "id": "b19012ed",
   "metadata": {},
   "outputs": [
    {
     "data": {
      "text/plain": [
       "1    560\n",
       "0    240\n",
       "Name: credit.rating, dtype: int64"
      ]
     },
     "execution_count": 14,
     "metadata": {},
     "output_type": "execute_result"
    }
   ],
   "source": [
    "y_train.value_counts()"
   ]
  },
  {
   "cell_type": "code",
   "execution_count": 15,
   "id": "ca98fd7d",
   "metadata": {},
   "outputs": [
    {
     "data": {
      "text/plain": [
       "0.3"
      ]
     },
     "execution_count": 15,
     "metadata": {},
     "output_type": "execute_result"
    }
   ],
   "source": [
    "y_train.value_counts()[0] / len(y_train)"
   ]
  },
  {
   "cell_type": "code",
   "execution_count": 16,
   "id": "fbd29fc2",
   "metadata": {},
   "outputs": [
    {
     "data": {
      "text/plain": [
       "1    140\n",
       "0     60\n",
       "Name: credit.rating, dtype: int64"
      ]
     },
     "execution_count": 16,
     "metadata": {},
     "output_type": "execute_result"
    }
   ],
   "source": [
    "y_test.value_counts()"
   ]
  },
  {
   "cell_type": "code",
   "execution_count": 17,
   "id": "f30d79ba",
   "metadata": {},
   "outputs": [
    {
     "data": {
      "text/plain": [
       "0.3"
      ]
     },
     "execution_count": 17,
     "metadata": {},
     "output_type": "execute_result"
    }
   ],
   "source": [
    "y_test.value_counts()[0] / len(y_test)"
   ]
  },
  {
   "cell_type": "code",
   "execution_count": null,
   "id": "b1137ae4",
   "metadata": {},
   "outputs": [],
   "source": [
    "# Classificador dummy"
   ]
  },
  {
   "cell_type": "code",
   "execution_count": 18,
   "id": "8ed0eb2e",
   "metadata": {},
   "outputs": [],
   "source": [
    "dummy_classifier = DummyClassifier(strategy='most_frequent')"
   ]
  },
  {
   "cell_type": "code",
   "execution_count": 19,
   "id": "202e4f1f",
   "metadata": {},
   "outputs": [
    {
     "data": {
      "text/plain": [
       "array([0.7, 0.7, 0.7, 0.7, 0.7])"
      ]
     },
     "execution_count": 19,
     "metadata": {},
     "output_type": "execute_result"
    }
   ],
   "source": [
    "cross_val_score(dummy_classifier, x_train, y_train, cv=5, scoring='accuracy')"
   ]
  },
  {
   "cell_type": "code",
   "execution_count": null,
   "id": "4d954c36",
   "metadata": {},
   "outputs": [],
   "source": [
    "# Regressão Logistica"
   ]
  },
  {
   "cell_type": "code",
   "execution_count": 49,
   "id": "012ef544",
   "metadata": {},
   "outputs": [],
   "source": [
    "logistic = LogisticRegression()"
   ]
  },
  {
   "cell_type": "code",
   "execution_count": 50,
   "id": "2fd64a0f",
   "metadata": {},
   "outputs": [
    {
     "data": {
      "text/plain": [
       "array([0.775  , 0.7375 , 0.74375, 0.725  , 0.78125])"
      ]
     },
     "execution_count": 50,
     "metadata": {},
     "output_type": "execute_result"
    }
   ],
   "source": [
    "cross_val_score(logistic, x_train, y_train, cv=5, scoring='accuracy')"
   ]
  },
  {
   "cell_type": "code",
   "execution_count": 51,
   "id": "e4775936",
   "metadata": {},
   "outputs": [],
   "source": [
    "y_train_predict = cross_val_predict(logistic, x_train, y_train, cv=5)"
   ]
  },
  {
   "cell_type": "code",
   "execution_count": 52,
   "id": "dab75f4d",
   "metadata": {},
   "outputs": [
    {
     "data": {
      "text/plain": [
       "array([[105, 135],\n",
       "       [ 63, 497]])"
      ]
     },
     "execution_count": 52,
     "metadata": {},
     "output_type": "execute_result"
    }
   ],
   "source": [
    "cm = confusion_matrix(y_train, y_train_predict)\n",
    "cm"
   ]
  },
  {
   "cell_type": "code",
   "execution_count": 53,
   "id": "764c13aa",
   "metadata": {},
   "outputs": [
    {
     "data": {
      "text/plain": [
       "<AxesSubplot:>"
      ]
     },
     "execution_count": 53,
     "metadata": {},
     "output_type": "execute_result"
    },
    {
     "data": {
      "image/png": "[encoded data removed]",
      "text/plain": [
       "<Figure size 432x288 with 2 Axes>"
      ]
     },
     "metadata": {
      "needs_background": "light"
     },
     "output_type": "display_data"
    }
   ],
   "source": [
    "sns.heatmap(cm, annot=True, fmt='d')"
   ]
  },
  {
   "cell_type": "code",
   "execution_count": 54,
   "id": "b1124322",
   "metadata": {},
   "outputs": [
    {
     "name": "stdout",
     "output_type": "stream",
     "text": [
      "Precisão: 0.7863924050632911\n",
      "Revocação: 0.8875\n",
      "Especificidade: 0.625\n"
     ]
    }
   ],
   "source": [
    "print(f'Precisão: {cm[1,1] / sum(cm[:,1])}')\n",
    "print(f'Revocação: {cm[1,1] / sum(cm[1,:])}')\n",
    "print(f'Especificidade: {cm[0,0] / sum(cm[:,0])}')"
   ]
  },
  {
   "cell_type": "code",
   "execution_count": 55,
   "id": "64f8df11",
   "metadata": {},
   "outputs": [],
   "source": [
    "def f1_score(matrix):\n",
    "    precision = matrix[1,1] / sum(matrix[:,1])\n",
    "    revocacao = matrix[1,1] / sum(matrix[1,:])\n",
    "    n = precision * revocacao\n",
    "    d = precision + revocacao\n",
    "    return (2 * (n / d))"
   ]
  },
  {
   "cell_type": "code",
   "execution_count": 56,
   "id": "9cf88b80",
   "metadata": {},
   "outputs": [
    {
     "name": "stdout",
     "output_type": "stream",
     "text": [
      "score f1: 0.8338926174496644\n"
     ]
    }
   ],
   "source": [
    "f1 = f1_score(cm)\n",
    "print(f'score f1: {f1}')"
   ]
  },
  {
   "cell_type": "code",
   "execution_count": 57,
   "id": "d8683a51",
   "metadata": {},
   "outputs": [],
   "source": [
    "y_scores = cross_val_predict(logistic, x_train, y_train, cv=5, method='predict_proba')"
   ]
  },
  {
   "cell_type": "code",
   "execution_count": 58,
   "id": "47a47527",
   "metadata": {},
   "outputs": [],
   "source": [
    "fpr, tpr, thresholds = roc_curve(y_train, y_scores[:, 1])"
   ]
  },
  {
   "cell_type": "code",
   "execution_count": 67,
   "id": "8f161d05",
   "metadata": {},
   "outputs": [
    {
     "data": {
      "text/plain": [
       "Text(0.5, 0, 'Falsos positivos')"
      ]
     },
     "execution_count": 67,
     "metadata": {},
     "output_type": "execute_result"
    },
    {
     "data": {
      "image/png": "[encoded data removed]",
      "text/plain": [
       "<Figure size 432x288 with 1 Axes>"
      ]
     },
     "metadata": {
      "needs_background": "light"
     },
     "output_type": "display_data"
    }
   ],
   "source": [
    "plt.plot(fpr, tpr, linewidth=2)\n",
    "plt.plot([0,1], [0,1], linestyle='--', color='red')\n",
    "plt.grid(visible=True)\n",
    "plt.ylabel('verdadeiros positivos', fontsize=12)\n",
    "plt.xlabel('Falsos positivos', fontsize=12)"
   ]
  },
  {
   "cell_type": "code",
   "execution_count": 28,
   "id": "b9d3b846",
   "metadata": {},
   "outputs": [
    {
     "data": {
      "text/plain": [
       "LogisticRegression()"
      ]
     },
     "execution_count": 28,
     "metadata": {},
     "output_type": "execute_result"
    }
   ],
   "source": [
    "logistic.fit(x_train, y_train)"
   ]
  },
  {
   "cell_type": "code",
   "execution_count": 29,
   "id": "282e9677",
   "metadata": {},
   "outputs": [
    {
     "data": {
      "text/plain": [
       "array([ 0.81296309, -0.28221705,  0.59055805, -0.34229701, -0.31456433,\n",
       "        0.32243465,  0.10786534, -0.22182101,  0.24816476,  0.1821461 ,\n",
       "       -0.06882438, -0.17547841,  0.13855775,  0.2416584 ,  0.16426284,\n",
       "       -0.09255199, -0.08166186, -0.26588363,  0.28834617,  1.045259  ])"
      ]
     },
     "execution_count": 29,
     "metadata": {},
     "output_type": "execute_result"
    }
   ],
   "source": [
    "logistic.coef_[0]"
   ]
  },
  {
   "cell_type": "code",
   "execution_count": 30,
   "id": "6b275b6b",
   "metadata": {},
   "outputs": [
    {
     "data": {
      "text/plain": [
       "Index(['account.balance', 'credit.duration.months',\n",
       "       'previous.credit.payment.status', 'credit.purpose', 'credit.amount',\n",
       "       'savings', 'employment.duration', 'installment.rate', 'marital.status',\n",
       "       'guarantor', 'residence.duration', 'current.assets', 'age',\n",
       "       'other.credits', 'apartment.type', 'bank.credits', 'occupation',\n",
       "       'dependents', 'telephone', 'foreign.worker'],\n",
       "      dtype='object')"
      ]
     },
     "execution_count": 30,
     "metadata": {},
     "output_type": "execute_result"
    }
   ],
   "source": [
    "x_train.columns"
   ]
  },
  {
   "cell_type": "code",
   "execution_count": 31,
   "id": "0a55657d",
   "metadata": {},
   "outputs": [
    {
     "name": "stdout",
     "output_type": "stream",
     "text": [
      "account.balance --> 0.8129630863415803\n",
      "credit.duration.months --> -0.28221705345175074\n",
      "previous.credit.payment.status --> 0.590558049173267\n",
      "credit.purpose --> -0.34229701235808946\n",
      "credit.amount --> -0.31456433197514705\n",
      "savings --> 0.32243465038196195\n",
      "employment.duration --> 0.10786533820622855\n",
      "installment.rate --> -0.22182101056498216\n",
      "marital.status --> 0.24816475774334684\n",
      "guarantor --> 0.18214609827750403\n",
      "residence.duration --> -0.0688243834940936\n",
      "current.assets --> -0.17547840603514606\n",
      "age --> 0.13855774908845753\n",
      "other.credits --> 0.24165840201233388\n",
      "apartment.type --> 0.16426283958250318\n",
      "bank.credits --> -0.09255198614470844\n",
      "occupation --> -0.081661858891999\n",
      "dependents --> -0.26588363023299844\n",
      "telephone --> 0.28834616681373043\n",
      "foreign.worker --> 1.0452589997020643\n"
     ]
    }
   ],
   "source": [
    "for a, b in zip(x_train.columns, logistic.coef_[0]):\n",
    "    print(f'{a} --> {b}')"
   ]
  },
  {
   "cell_type": "code",
   "execution_count": null,
   "id": "501b5dec",
   "metadata": {},
   "outputs": [],
   "source": [
    "# Visualizando a importância dos atributos com RFE"
   ]
  },
  {
   "cell_type": "code",
   "execution_count": 33,
   "id": "5c49a6e0",
   "metadata": {},
   "outputs": [],
   "source": [
    "selector = RFE(logistic, n_features_to_select=1)"
   ]
  },
  {
   "cell_type": "code",
   "execution_count": 34,
   "id": "ace3798d",
   "metadata": {},
   "outputs": [
    {
     "data": {
      "text/plain": [
       "RFE(estimator=LogisticRegression(), n_features_to_select=1)"
      ]
     },
     "execution_count": 34,
     "metadata": {},
     "output_type": "execute_result"
    }
   ],
   "source": [
    "selector.fit(x_train, y_train)"
   ]
  },
  {
   "cell_type": "code",
   "execution_count": 35,
   "id": "ec7dc5c9",
   "metadata": {},
   "outputs": [
    {
     "data": {
      "text/plain": [
       "array([ 2,  4,  3,  6,  9,  5, 18, 11,  7, 15, 20, 14, 16,  8, 13, 17, 19,\n",
       "       12, 10,  1])"
      ]
     },
     "execution_count": 35,
     "metadata": {},
     "output_type": "execute_result"
    }
   ],
   "source": [
    "selector.ranking_"
   ]
  },
  {
   "cell_type": "code",
   "execution_count": 36,
   "id": "060a8aa6",
   "metadata": {},
   "outputs": [
    {
     "name": "stdout",
     "output_type": "stream",
     "text": [
      "account.balance --> 2\n",
      "credit.duration.months --> 4\n",
      "previous.credit.payment.status --> 3\n",
      "credit.purpose --> 6\n",
      "credit.amount --> 9\n",
      "savings --> 5\n",
      "employment.duration --> 18\n",
      "installment.rate --> 11\n",
      "marital.status --> 7\n",
      "guarantor --> 15\n",
      "residence.duration --> 20\n",
      "current.assets --> 14\n",
      "age --> 16\n",
      "other.credits --> 8\n",
      "apartment.type --> 13\n",
      "bank.credits --> 17\n",
      "occupation --> 19\n",
      "dependents --> 12\n",
      "telephone --> 10\n",
      "foreign.worker --> 1\n"
     ]
    }
   ],
   "source": [
    "for a, b in zip(x_train.columns, selector.ranking_):\n",
    "    print(f'{a} --> {b}')"
   ]
  },
  {
   "cell_type": "code",
   "execution_count": null,
   "id": "d7f685bb",
   "metadata": {},
   "outputs": [],
   "source": [
    "# Regressão Logistica com os hiperparâmetros penalty e solver alterados"
   ]
  },
  {
   "cell_type": "code",
   "execution_count": 39,
   "id": "1be866de",
   "metadata": {},
   "outputs": [],
   "source": [
    "logistic_2 = LogisticRegression(penalty='l1', solver='liblinear')"
   ]
  },
  {
   "cell_type": "code",
   "execution_count": 40,
   "id": "6f62cc38",
   "metadata": {},
   "outputs": [
    {
     "data": {
      "text/plain": [
       "LogisticRegression(penalty='l1', solver='liblinear')"
      ]
     },
     "execution_count": 40,
     "metadata": {},
     "output_type": "execute_result"
    }
   ],
   "source": [
    "logistic_2.fit(x_train, y_train)"
   ]
  },
  {
   "cell_type": "code",
   "execution_count": 44,
   "id": "8da20071",
   "metadata": {},
   "outputs": [
    {
     "data": {
      "text/plain": [
       "0.78"
      ]
     },
     "execution_count": 44,
     "metadata": {},
     "output_type": "execute_result"
    }
   ],
   "source": [
    "logistic_2.score(x_train, y_train)"
   ]
  },
  {
   "cell_type": "code",
   "execution_count": 45,
   "id": "2865273e",
   "metadata": {},
   "outputs": [
    {
     "name": "stdout",
     "output_type": "stream",
     "text": [
      "account.balance --> 0.785786127673845\n",
      "credit.duration.months --> -0.27695301185231713\n",
      "previous.credit.payment.status --> 0.5536921295858827\n",
      "credit.purpose --> -0.36227011391285696\n",
      "credit.amount --> -0.2891863684240039\n",
      "savings --> 0.2979515657072702\n",
      "employment.duration --> 0.09851180672957716\n",
      "installment.rate --> -0.22565620145097018\n",
      "marital.status --> 0.2411036661211109\n",
      "guarantor --> 0.0\n",
      "residence.duration --> -0.07741981839546351\n",
      "current.assets --> -0.18229159129352895\n",
      "age --> 0.16263088565116787\n",
      "other.credits --> 0.11440186381592114\n",
      "apartment.type --> 0.0634072184417126\n",
      "bank.credits --> -0.09026754824100254\n",
      "occupation --> -0.1101780199413338\n",
      "dependents --> -0.2783614016725207\n",
      "telephone --> 0.225497907335948\n",
      "foreign.worker --> 0.6431279441077148\n"
     ]
    }
   ],
   "source": [
    "for a, b in zip(x_train.columns, logistic_2.coef_[0]):\n",
    "    print(f'{a} --> {b}')"
   ]
  },
  {
   "cell_type": "code",
   "execution_count": 46,
   "id": "f0de6b40",
   "metadata": {},
   "outputs": [
    {
     "data": {
      "text/plain": [
       "<AxesSubplot:>"
      ]
     },
     "execution_count": 46,
     "metadata": {},
     "output_type": "execute_result"
    },
    {
     "data": {
      "image/png": "[encoded data removed]",
      "text/plain": [
       "<Figure size 432x288 with 2 Axes>"
      ]
     },
     "metadata": {
      "needs_background": "light"
     },
     "output_type": "display_data"
    }
   ],
   "source": [
    "y_train_predict = cross_val_predict(logistic_2, x_train, y_train, cv=5)\n",
    "cm = confusion_matrix(y_train, y_train_predict)\n",
    "sns.heatmap(cm, annot=True, fmt='d')"
   ]
  },
  {
   "cell_type": "code",
   "execution_count": 47,
   "id": "46afb81f",
   "metadata": {},
   "outputs": [
    {
     "name": "stdout",
     "output_type": "stream",
     "text": [
      "Precisão: 0.7870662460567823\n",
      "Revocação: 0.8910714285714286\n",
      "Especificidade: 0.6325301204819277\n"
     ]
    }
   ],
   "source": [
    "print(f'Precisão: {cm[1,1] / sum(cm[:,1])}')\n",
    "print(f'Revocação: {cm[1,1] / sum(cm[1,:])}')\n",
    "print(f'Especificidade: {cm[0,0] / sum(cm[:,0])}')"
   ]
  }
 ],
 "metadata": {
  "kernelspec": {
   "display_name": "Python 3 (ipykernel)",
   "language": "python",
   "name": "python3"
  },
  "language_info": {
   "codemirror_mode": {
    "name": "ipython",
    "version": 3
   },
   "file_extension": ".py",
   "mimetype": "text/x-python",
   "name": "python",
   "nbconvert_exporter": "python",
   "pygments_lexer": "ipython3",
   "version": "3.8.10"
  }
 },
 "nbformat": 4,
 "nbformat_minor": 5
}
